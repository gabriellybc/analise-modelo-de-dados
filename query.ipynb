{
 "cells": [
  {
   "cell_type": "code",
   "execution_count": 28,
   "metadata": {},
   "outputs": [
    {
     "name": "stdout",
     "output_type": "stream",
     "text": [
      "Defaulting to user installation because normal site-packages is not writeable\n",
      "Requirement already satisfied: psycopg2-binary in /home/gabrielly/.local/lib/python3.8/site-packages (2.9.3)\n",
      "Note: you may need to restart the kernel to use updated packages.\n"
     ]
    }
   ],
   "source": [
    "%pip install psycopg2-binary\n"
   ]
  },
  {
   "cell_type": "code",
   "execution_count": 29,
   "metadata": {},
   "outputs": [],
   "source": [
    "import psycopg2\n"
   ]
  },
  {
   "cell_type": "code",
   "execution_count": 30,
   "metadata": {},
   "outputs": [],
   "source": [
    "# Database Credentials\n",
    "# Configure the connection to the database\n",
    "DBNAME = 'd336seml1avjjq'\n",
    "USER = 'fntlnknvzcqwbh'\n",
    "PASSWORD = 'dc978ceacfe35dfdf805f5685406ed325ccae2627f23399e860a045ed78bc265'\n",
    "HOST = 'ec2-3-226-163-72.compute-1.amazonaws.com'\n",
    "PORT = '5432'\n"
   ]
  },
  {
   "cell_type": "code",
   "execution_count": 31,
   "metadata": {},
   "outputs": [],
   "source": [
    "# Connect to an existing database\n",
    "conn = psycopg2.connect(dbname=DBNAME, user=USER,\n",
    "                        password=PASSWORD, host=HOST, port=PORT)\n",
    "\n",
    "# Open a cursor to perform database operations\n",
    "cur = conn.cursor()\n"
   ]
  },
  {
   "cell_type": "code",
   "execution_count": null,
   "metadata": {},
   "outputs": [],
   "source": []
  },
  {
   "cell_type": "code",
   "execution_count": 32,
   "metadata": {},
   "outputs": [],
   "source": [
    "\n",
    "#  Execute a command: this creates a new table\n",
    "cur.execute(\"\"\"\n",
    "    CREATE TABLE IF NOT EXISTS Loja (\n",
    "        id_loja INTEGER PRIMARY KEY NOT NULL,\n",
    "        cod_loja INTEGER NOT NULL,\n",
    "        nm_loja VARCHAR(100) NOT NULL\n",
    "    );\n",
    "\"\"\")\n",
    "\n",
    "cur.execute(\"\"\"\n",
    "    CREATE TABLE IF NOT EXISTS Cliente (\n",
    "        id_cliente INTEGER PRIMARY KEY NOT NULL,\n",
    "        estado_civil VARCHAR(50),\n",
    "        sexo VARCHAR(20),\n",
    "        bairro VARCHAR(50)\n",
    "    );\n",
    "\"\"\")\n",
    "\n",
    "cur.execute(\"\"\"\n",
    "    CREATE TABLE IF NOT EXISTS Tempo (\n",
    "        id_tempo INTEGER PRIMARY KEY NOT NULL,\n",
    "        ano INTEGER NOT NULL,\n",
    "        mes INTEGER NOT NULL,\n",
    "        dia INTEGER NOT NULL,\n",
    "        data INTEGER NOT NULL\n",
    "    );\n",
    "\"\"\")\n",
    "\n",
    "cur.execute(\"\"\"\n",
    "    CREATE TABLE IF NOT EXISTS DIM_Produto (\n",
    "        id_produto INTEGER PRIMARY KEY NOT NULL,\n",
    "        cod_produto INTEGER NOT NULL,\n",
    "        nm_produto VARCHAR(100) NOT NULL,\n",
    "        secao VARCHAR(50),\n",
    "        grupo VARCHAR(50),\n",
    "        subgrupo VARCHAR(50)\n",
    "    );\n",
    "\"\"\")\n",
    "\n",
    "# Make the changes to the database persistent\n",
    "conn.commit()\n"
   ]
  },
  {
   "cell_type": "code",
   "execution_count": null,
   "metadata": {},
   "outputs": [],
   "source": []
  },
  {
   "cell_type": "code",
   "execution_count": 33,
   "metadata": {},
   "outputs": [
    {
     "data": {
      "text/plain": [
       "(1, 21, 'Flor de Liz')"
      ]
     },
     "execution_count": 33,
     "metadata": {},
     "output_type": "execute_result"
    }
   ],
   "source": [
    "cur.execute(\"SELECT * FROM Loja;\")\n",
    "cur.fetchone()"
   ]
  },
  {
   "cell_type": "code",
   "execution_count": 34,
   "metadata": {},
   "outputs": [],
   "source": [
    "\n",
    "cur.execute(\"\"\"\n",
    "    CREATE TABLE IF NOT EXISTS Vendas (\n",
    "        id_loja INTEGER NOT NULL,\n",
    "        CONSTRAINT id_loja FOREIGN KEY (id_loja) REFERENCES Loja (id_loja),\n",
    "        id_produto INTEGER NOT NULL,\n",
    "        CONSTRAINT id_produto FOREIGN KEY (id_produto) REFERENCES DIM_Produto (id_produto),\n",
    "        id_cliente INTEGER NOT NULL,\n",
    "        CONSTRAINT id_cliente FOREIGN KEY (id_cliente) REFERENCES Cliente (id_cliente),\n",
    "        id_tempo INTEGER NOT NULL,\n",
    "        CONSTRAINT id_tempo FOREIGN KEY (id_tempo) REFERENCES Tempo (id_tempo),\n",
    "        Qtde_vendida INTEGER NOT NULL,\n",
    "        Receita_venda DECIMAL(38,2) NOT NULL\n",
    "    );\n",
    "\"\"\")\n",
    "\n",
    "conn.commit()\n",
    "cur.close()\n",
    "conn.close()\n"
   ]
  },
  {
   "cell_type": "code",
   "execution_count": 35,
   "metadata": {
    "vscode": {
     "languageId": "sql"
    }
   },
   "outputs": [
    {
     "ename": "SyntaxError",
     "evalue": "invalid syntax (252549283.py, line 1)",
     "output_type": "error",
     "traceback": [
      "\u001b[0;36m  Input \u001b[0;32mIn [35]\u001b[0;36m\u001b[0m\n\u001b[0;31m    CREATE TABLE IF NOT EXISTS Loja (\u001b[0m\n\u001b[0m           ^\u001b[0m\n\u001b[0;31mSyntaxError\u001b[0m\u001b[0;31m:\u001b[0m invalid syntax\n"
     ]
    }
   ],
   "source": [
    "CREATE TABLE IF NOT EXISTS Loja (\n",
    "  ID_loja INTEGER PRIMARY KEY NOT NULL,\n",
    "  Cod_loja INTEGER NOT NULL,\n",
    "  Nm_loja VARCHAR(100) NOT NULL\n",
    ");\n",
    "\n",
    "CREATE TABLE IF NOT EXISTS Cliente (\n",
    "    ID_cliente INTEGER PRIMARY KEY NOT NULL,\n",
    "    Estado_civil VARCHAR(50),\n",
    "    Sexo VARCHAR(20),\n",
    "    Bairro VARCHAR(50)\n",
    ");\n",
    "\n",
    "CREATE TABLE IF NOT EXISTS Tempo (\n",
    "    ID_tempo INTEGER PRIMARY KEY NOT NULL,\n",
    "    Ano INTEGER NOT NULL,\n",
    "    Mês INTEGER NOT NULL,\n",
    "    Dia INTEGER NOT NULL,\n",
    "    Data INTEGER NOT NULL\n",
    ");\n",
    "\n",
    "CREATE TABLE IF NOT EXISTS DIM_Produto (\n",
    "    ID_produto INTEGER PRIMARY KEY NOT NULL,\n",
    "    Cod_produto INTEGER NOT NULL,\n",
    "    Nm_produto VARCHAR(100) NOT NULL,\n",
    "    Secao VARCHAR(50),\n",
    "    Grupo VARCHAR(50),\n",
    "    Subgrupo VARCHAR(50)\n",
    ");\n",
    "\n",
    "CREATE TABLE IF NOT EXISTS Vendas (\n",
    "  id_loja INTEGER NOT NULL,\n",
    "  CONSTRAINT id_loja FOREIGN KEY (id_loja) REFERENCES Loja (id_loja),\n",
    "  id_produto INTEGER NOT NULL,\n",
    "  CONSTRAINT id_produto FOREIGN KEY (id_produto) REFERENCES DIM_Produto (id_produto),\n",
    "  id_cliente INTEGER NOT NULL,\n",
    "  CONSTRAINT id_cliente FOREIGN KEY (id_cliente) REFERENCES Cliente (id_cliente),\n",
    "  id_tempo INTEGER NOT NULL,\n",
    "  CONSTRAINT id_tempo FOREIGN KEY (id_tempo) REFERENCES Tempo (id_tempo),\n",
    "  Qtde_vendida INTEGER NOT NULL,\n",
    "  Receita_venda DECIMAL(38,2) NOT NULL\n",
    ");"
   ]
  },
  {
   "cell_type": "code",
   "execution_count": null,
   "metadata": {},
   "outputs": [],
   "source": []
  }
 ],
 "metadata": {
  "interpreter": {
   "hash": "31f2aee4e71d21fbe5cf8b01ff0e069b9275f58929596ceb00d14d90e3e16cd6"
  },
  "kernelspec": {
   "display_name": "Python 3.8.10 64-bit",
   "language": "python",
   "name": "python3"
  },
  "language_info": {
   "codemirror_mode": {
    "name": "ipython",
    "version": 3
   },
   "file_extension": ".py",
   "mimetype": "text/x-python",
   "name": "python",
   "nbconvert_exporter": "python",
   "pygments_lexer": "ipython3",
   "version": "3.8.10"
  },
  "orig_nbformat": 4
 },
 "nbformat": 4,
 "nbformat_minor": 2
}
