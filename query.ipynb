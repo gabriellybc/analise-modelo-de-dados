{
 "cells": [
  {
   "cell_type": "code",
   "execution_count": 17,
   "metadata": {},
   "outputs": [
    {
     "name": "stdout",
     "output_type": "stream",
     "text": [
      "Defaulting to user installation because normal site-packages is not writeable\n",
      "Requirement already satisfied: psycopg2-binary in /home/gabrielly/.local/lib/python3.8/site-packages (2.9.3)\n",
      "Note: you may need to restart the kernel to use updated packages.\n"
     ]
    }
   ],
   "source": [
    "%pip install psycopg2-binary\n"
   ]
  },
  {
   "cell_type": "code",
   "execution_count": 17,
   "metadata": {},
   "outputs": [],
   "source": [
    "import psycopg2\n"
   ]
  },
  {
   "cell_type": "code",
   "execution_count": 39,
   "metadata": {},
   "outputs": [],
   "source": [
    "# Database Credentials\n",
    "# Configure the connection to the database\n",
    "DBNAME = 'd336seml1avjjq'\n",
    "USER = 'fntlnknvzcqwbh'\n",
    "PASSWORD = 'dc978ceacfe35dfdf805f5685406ed325ccae2627f23399e860a045ed78bc265'\n",
    "HOST = 'ec2-3-226-163-72.compute-1.amazonaws.com'\n",
    "PORT = '5432'\n"
   ]
  },
  {
   "cell_type": "code",
   "execution_count": 43,
   "metadata": {},
   "outputs": [],
   "source": [
    "# Connect to an existing database\n",
    "conn = psycopg2.connect(dbname=DBNAME, user=USER,\n",
    "                        password=PASSWORD, host=HOST, port=PORT)\n",
    "\n",
    "# Open a cursor to perform database operations\n",
    "cur = conn.cursor()\n"
   ]
  },
  {
   "cell_type": "code",
   "execution_count": 37,
   "metadata": {},
   "outputs": [],
   "source": [
    "\n",
    "#  Execute a command: this creates a new table\n",
    "cur.execute(\"\"\"\n",
    "    CREATE TABLE IF NOT EXISTS Loja (\n",
    "        id_loja INTEGER PRIMARY KEY NOT NULL,\n",
    "        cod_loja INTEGER NOT NULL,\n",
    "        nm_loja VARCHAR(100) NOT NULL\n",
    "    );\n",
    "\"\"\")\n",
    "\n",
    "cur.execute(\"\"\"\n",
    "    CREATE TABLE IF NOT EXISTS Cliente (\n",
    "        id_cliente INTEGER PRIMARY KEY NOT NULL,\n",
    "        estado_civil VARCHAR(50),\n",
    "        sexo VARCHAR(20),\n",
    "        bairro VARCHAR(50)\n",
    "    );\n",
    "\"\"\")\n",
    "\n",
    "cur.execute(\"\"\"\n",
    "    CREATE TABLE IF NOT EXISTS Tempo (\n",
    "        id_tempo INTEGER PRIMARY KEY NOT NULL,\n",
    "        ano INTEGER NOT NULL,\n",
    "        mes INTEGER NOT NULL,\n",
    "        dia INTEGER NOT NULL,\n",
    "        data INTEGER NOT NULL\n",
    "    );\n",
    "\"\"\")\n",
    "\n",
    "cur.execute(\"\"\"\n",
    "    CREATE TABLE IF NOT EXISTS DIM_Produto (\n",
    "        id_produto INTEGER PRIMARY KEY NOT NULL,\n",
    "        cod_produto INTEGER NOT NULL,\n",
    "        nm_produto VARCHAR(100) NOT NULL,\n",
    "        secao VARCHAR(50),\n",
    "        grupo VARCHAR(50),\n",
    "        subgrupo VARCHAR(50)\n",
    "    );\n",
    "\"\"\")\n",
    "\n",
    "# Make the changes to the database persistent\n",
    "conn.commit()\n"
   ]
  },
  {
   "cell_type": "code",
   "execution_count": 21,
   "metadata": {},
   "outputs": [],
   "source": [
    "\n",
    "cur.execute(\"\"\"\n",
    "    CREATE TABLE IF NOT EXISTS Vendas (\n",
    "        id_loja INTEGER NOT NULL,\n",
    "        CONSTRAINT id_loja FOREIGN KEY (id_loja) REFERENCES Loja (id_loja),\n",
    "        id_produto INTEGER NOT NULL,\n",
    "        CONSTRAINT id_produto FOREIGN KEY (id_produto) REFERENCES DIM_Produto (id_produto),\n",
    "        id_cliente INTEGER NOT NULL,\n",
    "        CONSTRAINT id_cliente FOREIGN KEY (id_cliente) REFERENCES Cliente (id_cliente),\n",
    "        id_tempo INTEGER NOT NULL,\n",
    "        CONSTRAINT id_tempo FOREIGN KEY (id_tempo) REFERENCES Tempo (id_tempo),\n",
    "        Qtde_vendida INTEGER NOT NULL,\n",
    "        Receita_venda DECIMAL(38,2) NOT NULL\n",
    "    );\n",
    "\"\"\")\n",
    "\n",
    "conn.commit()\n",
    "\n"
   ]
  },
  {
   "cell_type": "code",
   "execution_count": 24,
   "metadata": {},
   "outputs": [],
   "source": [
    "cur.execute(\"\"\"\n",
    "    INSERT INTO Loja\n",
    "    (id_loja, cod_loja, nm_loja)\n",
    "    VALUES (%s,%s,%s),\n",
    "           (%s,%s,%s),\n",
    "           (%s,%s,%s),\n",
    "           (%s,%s,%s),\n",
    "           (%s,%s,%s),\n",
    "           (%s,%s,%s),\n",
    "           (%s,%s,%s),\n",
    "           (%s,%s,%s),\n",
    "           (%s,%s,%s),\n",
    "           (%s,%s,%s),\n",
    "           (%s,%s,%s),\n",
    "           (%s,%s,%s),\n",
    "           (%s,%s,%s),\n",
    "           (%s,%s,%s),\n",
    "           (%s,%s,%s);\"\"\",\n",
    "    (6,456,\"Animale\",\n",
    "    7,234,\"Victor Hugo\",\n",
    "    8,367,\"Reserva\",\n",
    "    9,897,\"Hortênsias Moda\",\n",
    "    10,1,\"Elegance Modas\",\n",
    "    11,112,\"Universo Feminino\",\n",
    "    12,123,\"Joinha\",\n",
    "    13,342,\"Belo Traje\",\n",
    "    14,511,\"SNAP\",\n",
    "    15,145,\"Urban Boy\",\n",
    "    16,13,\"Bela Prata\",\n",
    "    17,27,\"Makeup Shop\",\n",
    "    18,98,\"Doce Encanto\",\n",
    "    19,8,\"Moço Conectado\",\n",
    "    20,321,\"Vector Importados\"))\n",
    "\n",
    "conn.commit()"
   ]
  },
  {
   "cell_type": "code",
   "execution_count": 12,
   "metadata": {},
   "outputs": [],
   "source": [
    "cur.execute(\"\"\"\n",
    "    INSERT INTO Cliente\n",
    "    (id_cliente,estado_civil, sexo, bairro)\n",
    "    VALUES (%s,%s,%s,%s),\n",
    "           (%s,%s,%s,%s),\n",
    "           (%s,%s,%s,%s),\n",
    "           (%s,%s,%s,%s);\"\"\",\n",
    "        (17,\"Solteiro\",\"Feminino\",\"Botafogo\",\n",
    "    18,\"Divorciado\",\"Masculino\",\"Jacarepagua\",\n",
    "    19,\"Viuvo\",\"Outros\",\"Jacarepagua\",\n",
    "    20,\"Separado\",\"Feminino\",\"Centro\"))\n",
    "\n",
    "conn.commit()"
   ]
  },
  {
   "cell_type": "code",
   "execution_count": 38,
   "metadata": {},
   "outputs": [],
   "source": [
    "cur.execute(\"\"\"\n",
    "    INSERT INTO DIM_Produto\n",
    "    (id_produto,cod_produto,nm_produto,secao,grupo,subgrupo)\n",
    "    VALUES (%s,%s,%s,%s,%s,%s),\n",
    "           (%s,%s,%s,%s,%s,%s),\n",
    "           (%s,%s,%s,%s,%s,%s),\n",
    "           (%s,%s,%s,%s,%s,%s),\n",
    "           (%s,%s,%s,%s,%s,%s),\n",
    "           (%s,%s,%s,%s,%s,%s),\n",
    "           (%s,%s,%s,%s,%s,%s),\n",
    "           (%s,%s,%s,%s,%s,%s),\n",
    "           (%s,%s,%s,%s,%s,%s),\n",
    "        (%s,%s,%s,%s,%s,%s);\"\"\",\n",
    "    (11,1,'Mouse','Eletronico','Tecnologia','Informatica',\n",
    "12,21,'Teclado','Eletronico','Tecnologia','Informatica',\n",
    "13,33,'Condicionador','Beleza','Perfumaria','Cabelos Loiros',\n",
    "14,78,'Meia','Vestimenta','Meias','Meia longa',\n",
    "15,5,'Sapatilha','Vestimenta','Calçados' ,'Bale',\n",
    "16,90,'Chinelo','Vestimenta','Calçados' ,'Havaianas',\n",
    "17,112,'Notebook','Eletronico','Tecnologia','Informatica',\n",
    "18,123,'Creme para pele','Beleza','Perfumaria','Diurno',\n",
    "19,342,'Memoria DDR','Eletronico','Tecnologia','Informatica',\n",
    "20,511,'Jaqueta','Vestimenta','Roupas','Couro'))\n",
    "\n",
    "conn.commit()"
   ]
  },
  {
   "cell_type": "code",
   "execution_count": 45,
   "metadata": {},
   "outputs": [
    {
     "ename": "TypeError",
     "evalue": "not all arguments converted during string formatting",
     "output_type": "error",
     "traceback": [
      "\u001b[0;31m---------------------------------------------------------------------------\u001b[0m",
      "\u001b[0;31mTypeError\u001b[0m                                 Traceback (most recent call last)",
      "\u001b[1;32m/home/gabrielly/documents/analise-modelo-de-dados/query.ipynb Cell 10'\u001b[0m in \u001b[0;36m<cell line: 1>\u001b[0;34m()\u001b[0m\n\u001b[0;32m----> <a href='vscode-notebook-cell://wsl%2Bubuntu-20.04/home/gabrielly/documents/analise-modelo-de-dados/query.ipynb#ch0000016vscode-remote?line=0'>1</a>\u001b[0m cur\u001b[39m.\u001b[39;49mexecute(\u001b[39m\"\"\"\u001b[39;49m\n\u001b[1;32m      <a href='vscode-notebook-cell://wsl%2Bubuntu-20.04/home/gabrielly/documents/analise-modelo-de-dados/query.ipynb#ch0000016vscode-remote?line=1'>2</a>\u001b[0m \u001b[39m    INSERT INTO Tempo\u001b[39;49m\n\u001b[1;32m      <a href='vscode-notebook-cell://wsl%2Bubuntu-20.04/home/gabrielly/documents/analise-modelo-de-dados/query.ipynb#ch0000016vscode-remote?line=2'>3</a>\u001b[0m \u001b[39m    (id_tempo;ano;mes;dia;data)\u001b[39;49m\n\u001b[1;32m      <a href='vscode-notebook-cell://wsl%2Bubuntu-20.04/home/gabrielly/documents/analise-modelo-de-dados/query.ipynb#ch0000016vscode-remote?line=3'>4</a>\u001b[0m \u001b[39m    VALUES (\u001b[39;49m\u001b[39m%s\u001b[39;49;00m\u001b[39m,\u001b[39;49m\u001b[39m%s\u001b[39;49;00m\u001b[39m,\u001b[39;49m\u001b[39m%s\u001b[39;49;00m\u001b[39m,\u001b[39;49m\u001b[39m%s\u001b[39;49;00m\u001b[39m,\u001b[39;49m\u001b[39m%s\u001b[39;49;00m\u001b[39m),\u001b[39;49m\n\u001b[1;32m      <a href='vscode-notebook-cell://wsl%2Bubuntu-20.04/home/gabrielly/documents/analise-modelo-de-dados/query.ipynb#ch0000016vscode-remote?line=4'>5</a>\u001b[0m \u001b[39m           (\u001b[39;49m\u001b[39m%s\u001b[39;49;00m\u001b[39m,\u001b[39;49m\u001b[39m%s\u001b[39;49;00m\u001b[39m,\u001b[39;49m\u001b[39m%s\u001b[39;49;00m\u001b[39m,\u001b[39;49m\u001b[39m%s\u001b[39;49;00m\u001b[39m,\u001b[39;49m\u001b[39m%s\u001b[39;49;00m\u001b[39m),\u001b[39;49m\n\u001b[1;32m      <a href='vscode-notebook-cell://wsl%2Bubuntu-20.04/home/gabrielly/documents/analise-modelo-de-dados/query.ipynb#ch0000016vscode-remote?line=5'>6</a>\u001b[0m \u001b[39m           (\u001b[39;49m\u001b[39m%s\u001b[39;49;00m\u001b[39m,\u001b[39;49m\u001b[39m%s\u001b[39;49;00m\u001b[39m,\u001b[39;49m\u001b[39m%s\u001b[39;49;00m\u001b[39m,\u001b[39;49m\u001b[39m%s\u001b[39;49;00m\u001b[39m,\u001b[39;49m\u001b[39m%s\u001b[39;49;00m\u001b[39m),\u001b[39;49m\n\u001b[1;32m      <a href='vscode-notebook-cell://wsl%2Bubuntu-20.04/home/gabrielly/documents/analise-modelo-de-dados/query.ipynb#ch0000016vscode-remote?line=6'>7</a>\u001b[0m \u001b[39m           (\u001b[39;49m\u001b[39m%s\u001b[39;49;00m\u001b[39m,\u001b[39;49m\u001b[39m%s\u001b[39;49;00m\u001b[39m,\u001b[39;49m\u001b[39m%s\u001b[39;49;00m\u001b[39m,\u001b[39;49m\u001b[39m%s\u001b[39;49;00m\u001b[39m,\u001b[39;49m\u001b[39m%s\u001b[39;49;00m\u001b[39m),\u001b[39;49m\n\u001b[1;32m      <a href='vscode-notebook-cell://wsl%2Bubuntu-20.04/home/gabrielly/documents/analise-modelo-de-dados/query.ipynb#ch0000016vscode-remote?line=7'>8</a>\u001b[0m \u001b[39m           (\u001b[39;49m\u001b[39m%s\u001b[39;49;00m\u001b[39m,\u001b[39;49m\u001b[39m%s\u001b[39;49;00m\u001b[39m,\u001b[39;49m\u001b[39m%s\u001b[39;49;00m\u001b[39m,\u001b[39;49m\u001b[39m%s\u001b[39;49;00m\u001b[39m,\u001b[39;49m\u001b[39m%s\u001b[39;49;00m\u001b[39m),\u001b[39;49m\n\u001b[1;32m      <a href='vscode-notebook-cell://wsl%2Bubuntu-20.04/home/gabrielly/documents/analise-modelo-de-dados/query.ipynb#ch0000016vscode-remote?line=8'>9</a>\u001b[0m \u001b[39m           (\u001b[39;49m\u001b[39m%s\u001b[39;49;00m\u001b[39m,\u001b[39;49m\u001b[39m%s\u001b[39;49;00m\u001b[39m,\u001b[39;49m\u001b[39m%s\u001b[39;49;00m\u001b[39m,\u001b[39;49m\u001b[39m%s\u001b[39;49;00m\u001b[39m,\u001b[39;49m\u001b[39m%s\u001b[39;49;00m\u001b[39m),\u001b[39;49m\n\u001b[1;32m     <a href='vscode-notebook-cell://wsl%2Bubuntu-20.04/home/gabrielly/documents/analise-modelo-de-dados/query.ipynb#ch0000016vscode-remote?line=9'>10</a>\u001b[0m \u001b[39m           (\u001b[39;49m\u001b[39m%s\u001b[39;49;00m\u001b[39m,\u001b[39;49m\u001b[39m%s\u001b[39;49;00m\u001b[39m,\u001b[39;49m\u001b[39m%s\u001b[39;49;00m\u001b[39m,\u001b[39;49m\u001b[39m%s\u001b[39;49;00m\u001b[39m,\u001b[39;49m\u001b[39m%s\u001b[39;49;00m\u001b[39m),\u001b[39;49m\n\u001b[1;32m     <a href='vscode-notebook-cell://wsl%2Bubuntu-20.04/home/gabrielly/documents/analise-modelo-de-dados/query.ipynb#ch0000016vscode-remote?line=10'>11</a>\u001b[0m \u001b[39m           (\u001b[39;49m\u001b[39m%s\u001b[39;49;00m\u001b[39m,\u001b[39;49m\u001b[39m%s\u001b[39;49;00m\u001b[39m,\u001b[39;49m\u001b[39m%s\u001b[39;49;00m\u001b[39m,\u001b[39;49m\u001b[39m%s\u001b[39;49;00m\u001b[39m,\u001b[39;49m\u001b[39m%s\u001b[39;49;00m\u001b[39m),\u001b[39;49m\n\u001b[1;32m     <a href='vscode-notebook-cell://wsl%2Bubuntu-20.04/home/gabrielly/documents/analise-modelo-de-dados/query.ipynb#ch0000016vscode-remote?line=11'>12</a>\u001b[0m \u001b[39m           (\u001b[39;49m\u001b[39m%s\u001b[39;49;00m\u001b[39m,\u001b[39;49m\u001b[39m%s\u001b[39;49;00m\u001b[39m,\u001b[39;49m\u001b[39m%s\u001b[39;49;00m\u001b[39m,\u001b[39;49m\u001b[39m%s\u001b[39;49;00m\u001b[39m,\u001b[39;49m\u001b[39m%s\u001b[39;49;00m\u001b[39m),\u001b[39;49m\n\u001b[1;32m     <a href='vscode-notebook-cell://wsl%2Bubuntu-20.04/home/gabrielly/documents/analise-modelo-de-dados/query.ipynb#ch0000016vscode-remote?line=12'>13</a>\u001b[0m \u001b[39m        (\u001b[39;49m\u001b[39m%s\u001b[39;49;00m\u001b[39m,\u001b[39;49m\u001b[39m%s\u001b[39;49;00m\u001b[39m,\u001b[39;49m\u001b[39m%s\u001b[39;49;00m\u001b[39m,\u001b[39;49m\u001b[39m%s\u001b[39;49;00m\u001b[39m,\u001b[39;49m\u001b[39m%s\u001b[39;49;00m\u001b[39m);\u001b[39;49m\u001b[39m\"\"\"\u001b[39;49m,\n\u001b[1;32m     <a href='vscode-notebook-cell://wsl%2Bubuntu-20.04/home/gabrielly/documents/analise-modelo-de-dados/query.ipynb#ch0000016vscode-remote?line=13'>14</a>\u001b[0m     (\u001b[39m1\u001b[39;49m,\u001b[39m2018\u001b[39;49m,\u001b[39m3\u001b[39;49m,\u001b[39m1\u001b[39;49m,\u001b[39m1032018\u001b[39;49m,\n\u001b[1;32m     <a href='vscode-notebook-cell://wsl%2Bubuntu-20.04/home/gabrielly/documents/analise-modelo-de-dados/query.ipynb#ch0000016vscode-remote?line=14'>15</a>\u001b[0m     \u001b[39m2\u001b[39;49m,\u001b[39m2020\u001b[39;49m,\u001b[39m4\u001b[39;49m,\u001b[39m1\u001b[39;49m,\u001b[39m1042020\u001b[39;49m,\n\u001b[1;32m     <a href='vscode-notebook-cell://wsl%2Bubuntu-20.04/home/gabrielly/documents/analise-modelo-de-dados/query.ipynb#ch0000016vscode-remote?line=15'>16</a>\u001b[0m     \u001b[39m3\u001b[39;49m,\u001b[39m2022\u001b[39;49m,\u001b[39m1\u001b[39;49m,\u001b[39m6\u001b[39;49m,\u001b[39m6012022\u001b[39;49m,\n\u001b[1;32m     <a href='vscode-notebook-cell://wsl%2Bubuntu-20.04/home/gabrielly/documents/analise-modelo-de-dados/query.ipynb#ch0000016vscode-remote?line=16'>17</a>\u001b[0m     \u001b[39m4\u001b[39;49m,\u001b[39m1987\u001b[39;49m,\u001b[39m1\u001b[39;49m,\u001b[39m7\u001b[39;49m,\u001b[39m7011987\u001b[39;49m,\n\u001b[1;32m     <a href='vscode-notebook-cell://wsl%2Bubuntu-20.04/home/gabrielly/documents/analise-modelo-de-dados/query.ipynb#ch0000016vscode-remote?line=17'>18</a>\u001b[0m     \u001b[39m5\u001b[39;49m,\u001b[39m2022\u001b[39;49m,\u001b[39m1\u001b[39;49m,\u001b[39m8\u001b[39;49m,\u001b[39m8012022\u001b[39;49m,\n\u001b[1;32m     <a href='vscode-notebook-cell://wsl%2Bubuntu-20.04/home/gabrielly/documents/analise-modelo-de-dados/query.ipynb#ch0000016vscode-remote?line=18'>19</a>\u001b[0m     \u001b[39m6\u001b[39;49m,\u001b[39m2020\u001b[39;49m,\u001b[39m4\u001b[39;49m,\u001b[39m1\u001b[39;49m,\u001b[39m1042020\u001b[39;49m,\n\u001b[1;32m     <a href='vscode-notebook-cell://wsl%2Bubuntu-20.04/home/gabrielly/documents/analise-modelo-de-dados/query.ipynb#ch0000016vscode-remote?line=19'>20</a>\u001b[0m     \u001b[39m7\u001b[39;49m,\u001b[39m2020\u001b[39;49m,\u001b[39m4\u001b[39;49m,\u001b[39m1\u001b[39;49m,\u001b[39m1042020\u001b[39;49m,\n\u001b[1;32m     <a href='vscode-notebook-cell://wsl%2Bubuntu-20.04/home/gabrielly/documents/analise-modelo-de-dados/query.ipynb#ch0000016vscode-remote?line=20'>21</a>\u001b[0m     \u001b[39m8\u001b[39;49m,\u001b[39m2020\u001b[39;49m,\u001b[39m4\u001b[39;49m,\u001b[39m1\u001b[39;49m,\u001b[39m1042020\u001b[39;49m,\n\u001b[1;32m     <a href='vscode-notebook-cell://wsl%2Bubuntu-20.04/home/gabrielly/documents/analise-modelo-de-dados/query.ipynb#ch0000016vscode-remote?line=21'>22</a>\u001b[0m     \u001b[39m9\u001b[39;49m,\u001b[39m2021\u001b[39;49m,\u001b[39m1\u001b[39;49m,\u001b[39m12\u001b[39;49m,\u001b[39m12012021\u001b[39;49m,\n\u001b[1;32m     <a href='vscode-notebook-cell://wsl%2Bubuntu-20.04/home/gabrielly/documents/analise-modelo-de-dados/query.ipynb#ch0000016vscode-remote?line=22'>23</a>\u001b[0m     \u001b[39m10\u001b[39;49m,\u001b[39m2022\u001b[39;49m,\u001b[39m1\u001b[39;49m,\u001b[39m13\u001b[39;49m,\u001b[39m13012022\u001b[39;49m,\n\u001b[1;32m     <a href='vscode-notebook-cell://wsl%2Bubuntu-20.04/home/gabrielly/documents/analise-modelo-de-dados/query.ipynb#ch0000016vscode-remote?line=23'>24</a>\u001b[0m     \u001b[39m11\u001b[39;49m,\u001b[39m1999\u001b[39;49m,\u001b[39m1\u001b[39;49m,\u001b[39m14\u001b[39;49m,\u001b[39m14011999\u001b[39;49m,\n\u001b[1;32m     <a href='vscode-notebook-cell://wsl%2Bubuntu-20.04/home/gabrielly/documents/analise-modelo-de-dados/query.ipynb#ch0000016vscode-remote?line=24'>25</a>\u001b[0m     \u001b[39m12\u001b[39;49m,\u001b[39m2022\u001b[39;49m,\u001b[39m1\u001b[39;49m,\u001b[39m15\u001b[39;49m,\u001b[39m15012022\u001b[39;49m,\n\u001b[1;32m     <a href='vscode-notebook-cell://wsl%2Bubuntu-20.04/home/gabrielly/documents/analise-modelo-de-dados/query.ipynb#ch0000016vscode-remote?line=25'>26</a>\u001b[0m     \u001b[39m13\u001b[39;49m,\u001b[39m1990\u001b[39;49m,\u001b[39m1\u001b[39;49m,\u001b[39m16\u001b[39;49m,\u001b[39m16011990\u001b[39;49m,\n\u001b[1;32m     <a href='vscode-notebook-cell://wsl%2Bubuntu-20.04/home/gabrielly/documents/analise-modelo-de-dados/query.ipynb#ch0000016vscode-remote?line=26'>27</a>\u001b[0m     \u001b[39m14\u001b[39;49m,\u001b[39m2020\u001b[39;49m,\u001b[39m4\u001b[39;49m,\u001b[39m1\u001b[39;49m,\u001b[39m1042020\u001b[39;49m,\n\u001b[1;32m     <a href='vscode-notebook-cell://wsl%2Bubuntu-20.04/home/gabrielly/documents/analise-modelo-de-dados/query.ipynb#ch0000016vscode-remote?line=27'>28</a>\u001b[0m     \u001b[39m15\u001b[39;49m,\u001b[39m2020\u001b[39;49m,\u001b[39m4\u001b[39;49m,\u001b[39m1\u001b[39;49m,\u001b[39m1042020\u001b[39;49m,\n\u001b[1;32m     <a href='vscode-notebook-cell://wsl%2Bubuntu-20.04/home/gabrielly/documents/analise-modelo-de-dados/query.ipynb#ch0000016vscode-remote?line=28'>29</a>\u001b[0m     \u001b[39m16\u001b[39;49m,\u001b[39m2022\u001b[39;49m,\u001b[39m1\u001b[39;49m,\u001b[39m19\u001b[39;49m,\u001b[39m19012022\u001b[39;49m,\n\u001b[1;32m     <a href='vscode-notebook-cell://wsl%2Bubuntu-20.04/home/gabrielly/documents/analise-modelo-de-dados/query.ipynb#ch0000016vscode-remote?line=29'>30</a>\u001b[0m     \u001b[39m17\u001b[39;49m,\u001b[39m2023\u001b[39;49m,\u001b[39m1\u001b[39;49m,\u001b[39m20\u001b[39;49m,\u001b[39m20012023\u001b[39;49m,\n\u001b[1;32m     <a href='vscode-notebook-cell://wsl%2Bubuntu-20.04/home/gabrielly/documents/analise-modelo-de-dados/query.ipynb#ch0000016vscode-remote?line=30'>31</a>\u001b[0m     \u001b[39m18\u001b[39;49m,\u001b[39m2022\u001b[39;49m,\u001b[39m4\u001b[39;49m,\u001b[39m1\u001b[39;49m,\u001b[39m1042022\u001b[39;49m,\n\u001b[1;32m     <a href='vscode-notebook-cell://wsl%2Bubuntu-20.04/home/gabrielly/documents/analise-modelo-de-dados/query.ipynb#ch0000016vscode-remote?line=31'>32</a>\u001b[0m     \u001b[39m19\u001b[39;49m,\u001b[39m2020\u001b[39;49m,\u001b[39m4\u001b[39;49m,\u001b[39m1\u001b[39;49m,\u001b[39m1042020\u001b[39;49m,\n\u001b[1;32m     <a href='vscode-notebook-cell://wsl%2Bubuntu-20.04/home/gabrielly/documents/analise-modelo-de-dados/query.ipynb#ch0000016vscode-remote?line=32'>33</a>\u001b[0m     \u001b[39m20\u001b[39;49m,\u001b[39m2022\u001b[39;49m,\u001b[39m4\u001b[39;49m,\u001b[39m1\u001b[39;49m,\u001b[39m1042022\u001b[39;49m))\n\u001b[1;32m     <a href='vscode-notebook-cell://wsl%2Bubuntu-20.04/home/gabrielly/documents/analise-modelo-de-dados/query.ipynb#ch0000016vscode-remote?line=34'>35</a>\u001b[0m conn\u001b[39m.\u001b[39mcommit()\n",
      "\u001b[0;31mTypeError\u001b[0m: not all arguments converted during string formatting"
     ]
    }
   ],
   "source": [
    "cur.execute(\"\"\"\n",
    "    INSERT INTO Tempo\n",
    "    (id_tempo;ano;mes;dia;data)\n",
    "    VALUES (%s,%s,%s,%s,%s),\n",
    "           (%s,%s,%s,%s,%s),\n",
    "           (%s,%s,%s,%s,%s),\n",
    "           (%s,%s,%s,%s,%s),\n",
    "           (%s,%s,%s,%s,%s),\n",
    "           (%s,%s,%s,%s,%s),\n",
    "           (%s,%s,%s,%s,%s),\n",
    "           (%s,%s,%s,%s,%s),\n",
    "           (%s,%s,%s,%s,%s),\n",
    "        (%s,%s,%s,%s,%s);\"\"\",\n",
    "    (1,2018,3,1,1032018,\n",
    "    2,2020,4,1,1042020,\n",
    "    3,2022,1,6,6012022,\n",
    "    4,1987,1,7,7011987,\n",
    "    5,2022,1,8,8012022,\n",
    "    6,2020,4,1,1042020,\n",
    "    7,2020,4,1,1042020,\n",
    "    8,2020,4,1,1042020,\n",
    "    9,2021,1,12,12012021,\n",
    "    10,2022,1,13,13012022,\n",
    "    11,1999,1,14,14011999,\n",
    "    12,2022,1,15,15012022,\n",
    "    13,1990,1,16,16011990,\n",
    "    14,2020,4,1,1042020,\n",
    "    15,2020,4,1,1042020,\n",
    "    16,2022,1,19,19012022,\n",
    "    17,2023,1,20,20012023,\n",
    "    18,2022,4,1,1042022,\n",
    "    19,2020,4,1,1042020,\n",
    "    20,2022,4,1,1042022))\n",
    "\n",
    "conn.commit()"
   ]
  },
  {
   "cell_type": "code",
   "execution_count": 25,
   "metadata": {
    "vscode": {
     "languageId": "sql"
    }
   },
   "outputs": [
    {
     "ename": "SyntaxError",
     "evalue": "invalid syntax (846136841.py, line 1)",
     "output_type": "error",
     "traceback": [
      "\u001b[0;36m  Input \u001b[0;32mIn [25]\u001b[0;36m\u001b[0m\n\u001b[0;31m    CREATE TABLE IF NOT EXISTS Loja (\u001b[0m\n\u001b[0m           ^\u001b[0m\n\u001b[0;31mSyntaxError\u001b[0m\u001b[0;31m:\u001b[0m invalid syntax\n"
     ]
    }
   ],
   "source": [
    "CREATE TABLE IF NOT EXISTS Loja (\n",
    "  ID_loja INTEGER PRIMARY KEY NOT NULL,\n",
    "  Cod_loja INTEGER NOT NULL,\n",
    "  Nm_loja VARCHAR(100) NOT NULL\n",
    ");\n",
    "\n",
    "CREATE TABLE IF NOT EXISTS Cliente (\n",
    "    ID_cliente INTEGER PRIMARY KEY NOT NULL,\n",
    "    Estado_civil VARCHAR(50),\n",
    "    Sexo VARCHAR(20),\n",
    "    Bairro VARCHAR(50)\n",
    ");\n",
    "\n",
    "CREATE TABLE IF NOT EXISTS Tempo (\n",
    "    ID_tempo INTEGER PRIMARY KEY NOT NULL,\n",
    "    Ano INTEGER NOT NULL,\n",
    "    Mês INTEGER NOT NULL,\n",
    "    Dia INTEGER NOT NULL,\n",
    "    Data INTEGER NOT NULL\n",
    ");\n",
    "\n",
    "CREATE TABLE IF NOT EXISTS DIM_Produto (\n",
    "    ID_produto INTEGER PRIMARY KEY NOT NULL,\n",
    "    Cod_produto INTEGER NOT NULL,\n",
    "    Nm_produto VARCHAR(100) NOT NULL,\n",
    "    Secao VARCHAR(50),\n",
    "    Grupo VARCHAR(50),\n",
    "    Subgrupo VARCHAR(50)\n",
    ");\n",
    "\n",
    "CREATE TABLE IF NOT EXISTS Vendas (\n",
    "  id_loja INTEGER NOT NULL,\n",
    "  CONSTRAINT id_loja FOREIGN KEY (id_loja) REFERENCES Loja (id_loja),\n",
    "  id_produto INTEGER NOT NULL,\n",
    "  CONSTRAINT id_produto FOREIGN KEY (id_produto) REFERENCES DIM_Produto (id_produto),\n",
    "  id_cliente INTEGER NOT NULL,\n",
    "  CONSTRAINT id_cliente FOREIGN KEY (id_cliente) REFERENCES Cliente (id_cliente),\n",
    "  id_tempo INTEGER NOT NULL,\n",
    "  CONSTRAINT id_tempo FOREIGN KEY (id_tempo) REFERENCES Tempo (id_tempo),\n",
    "  Qtde_vendida INTEGER NOT NULL,\n",
    "  Receita_venda DECIMAL(38,2) NOT NULL\n",
    ");"
   ]
  },
  {
   "cell_type": "code",
   "execution_count": null,
   "metadata": {},
   "outputs": [],
   "source": [
    "INSERT INTO Loja\n",
    "(id_loja, cod_loja, nm_loja)\n",
    "VALUES (6,456,\"Animale\"),\n",
    "VALUES (7,234,\"Victor Hugo\"),\n",
    "VALUES (8,367,\"Reserva\"),\n",
    "VALUES (9,897,\"Hortênsias Moda\"),\n",
    "VALUES (10,1,\"Elegance Modas\"),\n",
    "VALUES (11,112,\"Universo Feminino\"),\n",
    "VALUES (12,123,\"Joinha\"),\n",
    "VALUES (13,342,\"Belo Traje\"),\n",
    "VALUES (14,511,\"SNAP\"),\n",
    "VALUES (15,145,\"Urban Boy\"),\n",
    "VALUES (16,13,\"Bela Prata\"),\n",
    "VALUES (17,27,\"Makeup Shop\"),\n",
    "VALUES (18,98,\"Doce Encanto\"),\n",
    "VALUES (19,8,\"Moço Conectado\"),\n",
    "VALUES (20,321,\"Vector Importados\");"
   ]
  },
  {
   "cell_type": "code",
   "execution_count": null,
   "metadata": {
    "vscode": {
     "languageId": "sql"
    }
   },
   "outputs": [],
   "source": [
    "SELECT COUNT(*)\n",
    "FROM Vendas\n",
    "    LEFT JOIN Tempo\n",
    "      ON Vendas.ID_tempo = Tempo.ID_tempo\n",
    "    WHERE Data >= '2020-04-01'\n",
    "      AND Data < '2021-04-01';"
   ]
  },
  {
   "cell_type": "code",
   "execution_count": null,
   "metadata": {
    "vscode": {
     "languageId": "sql"
    }
   },
   "outputs": [],
   "source": [
    "SELECT COUNT(DISTINCT sexo, estado_civil)\n",
    "FROM Cliente\n",
    "    WHERE sexo LIKE \"Feminino\"\n",
    "      AND estado_civil LIKE \"Divorciada\";"
   ]
  },
  {
   "cell_type": "code",
   "execution_count": null,
   "metadata": {
    "vscode": {
     "languageId": "sql"
    }
   },
   "outputs": [],
   "source": [
    "SELECT cod_produto, nm_produto\n",
    "FROM DIM_Produto\n",
    "    INNER JOIN Vendas\n",
    "      ON DIM_Produto.ID_produto = Vendas.ID_produto\n",
    "    WHERE cod_produto IN (55, 120, 142)\n",
    "      AND receita_venda < 120,00;"
   ]
  },
  {
   "cell_type": "code",
   "execution_count": null,
   "metadata": {
    "vscode": {
     "languageId": "sql"
    }
   },
   "outputs": [],
   "source": [
    "SELECT receita_venda\n",
    "FROM Vendas\n",
    "    INNER JOIN Loja ON Vendas.id_loja = Loja.id_loja\n",
    "    INNER JOIN Tempo ON Vendas.id_tempo = Tempo.id_tempo\n",
    "    WHERE cod_loja = 32\n",
    "      AND Tempo.data >= '2021-04-01';"
   ]
  }
 ],
 "metadata": {
  "interpreter": {
   "hash": "31f2aee4e71d21fbe5cf8b01ff0e069b9275f58929596ceb00d14d90e3e16cd6"
  },
  "kernelspec": {
   "display_name": "Python 3.8.10 64-bit",
   "language": "python",
   "name": "python3"
  },
  "language_info": {
   "codemirror_mode": {
    "name": "ipython",
    "version": 3
   },
   "file_extension": ".py",
   "mimetype": "text/x-python",
   "name": "python",
   "nbconvert_exporter": "python",
   "pygments_lexer": "ipython3",
   "version": "3.8.10"
  },
  "orig_nbformat": 4
 },
 "nbformat": 4,
 "nbformat_minor": 2
}
